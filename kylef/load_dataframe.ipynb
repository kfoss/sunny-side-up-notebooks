{
 "cells": [
  {
   "cell_type": "code",
   "execution_count": 0,
   "metadata": {
    "collapsed": true
   },
   "outputs": [],
   "source": [
    "import os\n",
    "from os import path \n",
    "import numpy as np\n",
    "import pandas as pd\n",
    "from pandas import Series, DataFrame"
   ]
  },
  {
   "cell_type": "code",
   "execution_count": 0,
   "metadata": {
    "collapsed": true
   },
   "outputs": [],
   "source": [
    "truncate_length = 1014\n",
    "remove_length = 100\n",
    "num_entries_max = 500"
   ]
  },
  {
   "cell_type": "code",
   "execution_count": 0,
   "metadata": {
    "collapsed": true
   },
   "outputs": [],
   "source": [
    "def load_dataframe(dir_path, score):\n",
    "    \n",
    "    # determine list of files in directory\n",
    "    files = [\"{}{}\".format(dir_path,f) for f in os.listdir(dir_path)]\n",
    "    \n",
    "    # create tweet-sentiment pairs dataframe from source directory\n",
    "    df = pd.DataFrame()\n",
    "    for filename in files:\n",
    "        with open(filename, 'r') as my_file:\n",
    "            score = 1\n",
    "            df = df.append({'tweet': my_file.read(), 'sentiment': score}, ignore_index=True)\n",
    "            \n",
    "    # return formatted dataframe\n",
    "    return df"
   ]
  },
  {
   "cell_type": "code",
   "execution_count": 0,
   "metadata": {
    "collapsed": false
   },
   "outputs": [],
   "source": [
    "df_pos = load_dataframe(dir_path='/data/aclImdb/train/pos/', score=1)"
   ]
  },
  {
   "cell_type": "code",
   "execution_count": 0,
   "metadata": {
    "collapsed": true
   },
   "outputs": [],
   "source": [
    "df_neg = load_dataframe(dir_path='/data/aclImdb/train/neg/', score=0)"
   ]
  },
  {
   "cell_type": "code",
   "execution_count": 0,
   "metadata": {
    "collapsed": true
   },
   "outputs": [],
   "source": [
    "df_all = df_pos.merge(df_neg, how='outer')"
   ]
  },
  {
   "cell_type": "code",
   "execution_count": 0,
   "metadata": {
    "collapsed": false
   },
   "outputs": [],
   "source": [
    "# truncate tweets\n",
    "df_all['tweet'] = df_all['tweet'].str[:truncate_length]"
   ]
  },
  {
   "cell_type": "code",
   "execution_count": 0,
   "metadata": {
    "collapsed": false
   },
   "outputs": [],
   "source": [
    "# remove short entries\n",
    "mask = df_all['tweet'].str.len() > remove_length\n",
    "df_all = df_all[mask]"
   ]
  },
  {
   "cell_type": "code",
   "execution_count": 0,
   "metadata": {
    "collapsed": false
   },
   "outputs": [],
   "source": [
    "# reverse text\n",
    "df_all['tweet'] = df_all['tweet'].str[::-1]"
   ]
  },
  {
   "cell_type": "code",
   "execution_count": 0,
   "metadata": {
    "collapsed": false
   },
   "outputs": [],
   "source": [
    "# lowercase text\n",
    "df_all['tweet'] = df_all['tweet'].str.lower()"
   ]
  },
  {
   "cell_type": "code",
   "execution_count": 0,
   "metadata": {
    "collapsed": true
   },
   "outputs": [],
   "source": [
    "# setup the vocabulary for one-hot encoding\n",
    "vocab_chars = list(\"abcdefghijklmnopqrstuvwxyz0123456789,;.!?:'\\\"/\\\\|_@#$%^&*~`+-=<>()[]{}]\")\n",
    "vocab_len = len(vocab_arr)"
   ]
  },
  {
   "cell_type": "code",
   "execution_count": 0,
   "metadata": {
    "collapsed": false
   },
   "outputs": [],
   "source": [
    "# convert the vocabulary into a one-hot-encoding\n",
    "vocab_hash_table = np.identity(vocab_len)\n",
    "df_vocab = DataFrame(vocab_hash_table, columns=vocab_chars)"
   ]
  },
  {
   "cell_type": "code",
   "execution_count": 0,
   "metadata": {
    "collapsed": true
   },
   "outputs": [],
   "source": [
    "# initialize the fixed-size output array\n",
    "text = np.zeros([num_entries_max, truncate_length, vocab_len], dtype='int')"
   ]
  },
  {
   "cell_type": "code",
   "execution_count": 0,
   "metadata": {
    "collapsed": false
   },
   "outputs": [],
   "source": [
    "# create one-hot encoding for each character for each tweet in the dataset\n",
    "for tweet_index, tweet in enumerate(df_all['tweet'][:num_entries_max]):\n",
    "\n",
    "    # create the output list\n",
    "    chars = list(tweet)\n",
    "    \n",
    "    # process tweets\n",
    "    for char_index, c in enumerate(chars):\n",
    "        if(c in vocab_chars):\n",
    "            text[tweet_index][char_index] = np.array(df_vocab[c])"
   ]
  },
  {
   "cell_type": "code",
   "execution_count": 0,
   "metadata": {
    "collapsed": false
   },
   "outputs": [],
   "source": [
    "type(text)"
   ]
  }
 ],
 "metadata": {
  "kernelspec": {
   "display_name": "Python 2",
   "language": "python",
   "name": "python2"
  },
  "language_info": {
   "codemirror_mode": {
    "name": "ipython",
    "version": 2
   },
   "file_extension": ".py",
   "mimetype": "text/x-python",
   "name": "python",
   "nbconvert_exporter": "python",
   "pygments_lexer": "ipython2",
   "version": "2.7.6"
  }
 },
 "nbformat": 4,
 "nbformat_minor": 0
}